{
  "nbformat": 4,
  "nbformat_minor": 0,
  "metadata": {
    "colab": {
      "name": "Project1.ipynb",
      "provenance": [],
      "collapsed_sections": [
        "jx_FnF6HFucc"
      ],
      "toc_visible": true
    },
    "interpreter": {
      "hash": "decfd5e21a9d9cd2570fa7cff560e4e813dc9707b9dad4c8d2cb0b911d6701d2"
    },
    "kernelspec": {
      "display_name": "Python 3.8.8 64-bit ('base': conda)",
      "name": "python3"
    },
    "language_info": {
      "codemirror_mode": {
        "name": "ipython",
        "version": 2
      },
      "file_extension": ".py",
      "mimetype": "text/x-python",
      "name": "python",
      "nbconvert_exporter": "python",
      "pygments_lexer": "ipython2",
      "version": "3.8.8"
    }
  },
  "cells": [
    {
      "cell_type": "markdown",
      "metadata": {
        "id": "view-in-github"
      },
      "source": [
        "<a href=\"https://colab.research.google.com/github/google/applied-machine-learning-intensive/blob/master/content/02_data/06_project_data_processing/colab.ipynb\" target=\"_parent\"><img src=\"https://colab.research.google.com/assets/colab-badge.svg\" alt=\"Open In Colab\"/></a>"
      ]
    },
    {
      "cell_type": "markdown",
      "metadata": {
        "id": "jx_FnF6HFucc"
      },
      "source": [
        "#### Copyright 2019 Google LLC."
      ]
    },
    {
      "cell_type": "code",
      "metadata": {
        "id": "cSdG7cSNFro-"
      },
      "source": [
        "# Licensed under the Apache License, Version 2.0 (the \"License\");\n",
        "# you may not use this file except in compliance with the License.\n",
        "# You may obtain a copy of the License at\n",
        "#\n",
        "# https://www.apache.org/licenses/LICENSE-2.0\n",
        "#\n",
        "# Unless required by applicable law or agreed to in writing, software\n",
        "# distributed under the License is distributed on an \"AS IS\" BASIS,\n",
        "# WITHOUT WARRANTIES OR CONDITIONS OF ANY KIND, either express or implied.\n",
        "# See the License for the specific language governing permissions and\n",
        "# limitations under the License."
      ],
      "execution_count": 79,
      "outputs": []
    },
    {
      "cell_type": "markdown",
      "metadata": {
        "id": "_FdRu8E0F6EJ"
      },
      "source": [
        "# Dataset Exploration\n"
      ]
    },
    {
      "cell_type": "markdown",
      "metadata": {
        "id": "Mm5d3zEpKE00"
      },
      "source": [
        "For this project you will be given a dataset and an associated problem. Over the course of the day, you will explore the dataset and train the best model you can in order to solve the problem. At the end of the day, you will give a short presentation about your model and solution."
      ]
    },
    {
      "cell_type": "markdown",
      "metadata": {
        "id": "Nb9YD_6cWefp"
      },
      "source": [
        "### Deliverables\n",
        "\n",
        "1. A **copy of this Colab notebook** containing your code and responses to the ethical considerations below.\n",
        "1. At the end of the day, we will ask you and your group to stand in front of the class and give a brief **presentation about what you have done**. "
      ]
    },
    {
      "cell_type": "markdown",
      "metadata": {
        "id": "JzEoFw-TPi7r"
      },
      "source": [
        "## Team\n",
        "\n",
        "Please enter your team members' names in the placeholders in this text area:\n",
        "\n",
        "*   *N'kira Brooks*\n",
        "*   *Lizbet Rivera*\n",
        "*   Steve Liang\n",
        "\n"
      ]
    },
    {
      "cell_type": "markdown",
      "metadata": {
        "id": "a0-9HPLU43Xf"
      },
      "source": [
        "# Exercises"
      ]
    },
    {
      "cell_type": "markdown",
      "metadata": {
        "id": "8rqFJ-Ch4_mU"
      },
      "source": [
        "## Exercise 1: Coding"
      ]
    },
    {
      "cell_type": "markdown",
      "metadata": {
        "id": "cr12EFb2WQym"
      },
      "source": [
        "[Kaggle](http://www.kaggle.com) hosts a [dataset containing US airline on-time statistics and delay data](https://www.kaggle.com/giovamata/airlinedelaycauses) from the [US Department of Transportation's Bureau of Transportation Statistics (BTS)](https://www.bts.gov/). In this project, we will **use flight statistics data to gain insights into US airports' and airlines' flights in 2008.**\n",
        "\n",
        "You are free to use any toolkit we've covered in class to solve the problem (e.g. Pandas, Matplotlib, Seaborn).\n",
        "\n",
        "Demonstrations of competency:\n",
        "1. Get the data into a Python object.\n",
        "1. Inspect the data for each column's data type and summary statistics.\n",
        "1. Explore the data programmatically and visually.\n",
        "1. Produce an answer and visualization, where applicable, for at least three questions from the list below, and discuss any relevant insights. Feel free to generate and answer some of your own questions. \n",
        "\n",
        "  * Which U.S. airport is the busiest airport? You can decide how you'd like to measure \"business\" (e.g., annually, monthly, daily).\n",
        "    * ['ATL'] is the busiest airport.\n",
        "  * Of the 2008 flights that are *actually delayed*, think about:\n",
        "    * Which 10 U.S. airlines have the most delays?\n",
        "    * Answer: Top 10 U.S. airlines have the most delays:\n",
        "      * ['WN', 'AA', 'MQ', 'UA', 'OO', 'DL', 'XE', 'CO', 'US', 'EV']\n",
        "    * Which 10 U.S. airports have the most delays? Steve\n",
        "      * ['ATL', 'ORD', 'DFW', 'DEN', 'LAX', 'IAH', 'PHX', 'LAS', 'EWR', 'DTW']\n",
        "  * More analysis:\n",
        "    * Are there patterns on how flight delays are distributed across different hours of the day?\n",
        "    * How about across months or seasons? Can you think of any reasons for these seasonal delays?\n",
        "    * Add reason for delay to your delay analysis above.\n",
        "    "
      ]
    },
    {
      "cell_type": "markdown",
      "metadata": {
        "id": "WgFU38b7rfbv"
      },
      "source": [
        "### Student Solution"
      ]
    },
    {
      "cell_type": "code",
      "metadata": {
        "id": "wOdOl0qqPyL-"
      },
      "source": [
        "#Remember to upload the .csv to under /content"
      ],
      "execution_count": 80,
      "outputs": []
    },
    {
      "cell_type": "markdown",
      "metadata": {
        "id": "uPOn-PRMDLls"
      },
      "source": [
        "### import libraries"
      ]
    },
    {
      "cell_type": "code",
      "metadata": {
        "id": "_CaL4T3wDLls"
      },
      "source": [
        "import pandas as pd\n",
        "import seaborn as sns\n",
        "import matplotlib.pyplot as plt"
      ],
      "execution_count": 81,
      "outputs": []
    },
    {
      "cell_type": "markdown",
      "metadata": {
        "id": "P7-EMtvcwNcL"
      },
      "source": [
        "### Load Data to Dataframe"
      ]
    },
    {
      "cell_type": "code",
      "metadata": {
        "colab": {
          "base_uri": "https://localhost:8080/",
          "height": 448
        },
        "id": "U_9dxmnxwHWX",
        "outputId": "6d386287-03dc-44b9-b26d-f35d3ada3ed1"
      },
      "source": [
        "flight_df = pd.read_csv('DelayedFlights.csv')\n",
        "flight_df"
      ],
      "execution_count": 82,
      "outputs": [
        {
          "output_type": "execute_result",
          "data": {
            "text/html": [
              "<div>\n",
              "<style scoped>\n",
              "    .dataframe tbody tr th:only-of-type {\n",
              "        vertical-align: middle;\n",
              "    }\n",
              "\n",
              "    .dataframe tbody tr th {\n",
              "        vertical-align: top;\n",
              "    }\n",
              "\n",
              "    .dataframe thead th {\n",
              "        text-align: right;\n",
              "    }\n",
              "</style>\n",
              "<table border=\"1\" class=\"dataframe\">\n",
              "  <thead>\n",
              "    <tr style=\"text-align: right;\">\n",
              "      <th></th>\n",
              "      <th>Unnamed: 0</th>\n",
              "      <th>Year</th>\n",
              "      <th>Month</th>\n",
              "      <th>DayofMonth</th>\n",
              "      <th>DayOfWeek</th>\n",
              "      <th>DepTime</th>\n",
              "      <th>CRSDepTime</th>\n",
              "      <th>ArrTime</th>\n",
              "      <th>CRSArrTime</th>\n",
              "      <th>UniqueCarrier</th>\n",
              "      <th>FlightNum</th>\n",
              "      <th>TailNum</th>\n",
              "      <th>ActualElapsedTime</th>\n",
              "      <th>CRSElapsedTime</th>\n",
              "      <th>AirTime</th>\n",
              "      <th>ArrDelay</th>\n",
              "      <th>DepDelay</th>\n",
              "      <th>Origin</th>\n",
              "      <th>Dest</th>\n",
              "      <th>Distance</th>\n",
              "      <th>TaxiIn</th>\n",
              "      <th>TaxiOut</th>\n",
              "      <th>Cancelled</th>\n",
              "      <th>CancellationCode</th>\n",
              "      <th>Diverted</th>\n",
              "      <th>CarrierDelay</th>\n",
              "      <th>WeatherDelay</th>\n",
              "      <th>NASDelay</th>\n",
              "      <th>SecurityDelay</th>\n",
              "      <th>LateAircraftDelay</th>\n",
              "    </tr>\n",
              "  </thead>\n",
              "  <tbody>\n",
              "    <tr>\n",
              "      <th>0</th>\n",
              "      <td>0</td>\n",
              "      <td>2008</td>\n",
              "      <td>1</td>\n",
              "      <td>3</td>\n",
              "      <td>4</td>\n",
              "      <td>2003.0</td>\n",
              "      <td>1955</td>\n",
              "      <td>2211.0</td>\n",
              "      <td>2225</td>\n",
              "      <td>WN</td>\n",
              "      <td>335</td>\n",
              "      <td>N712SW</td>\n",
              "      <td>128.0</td>\n",
              "      <td>150.0</td>\n",
              "      <td>116.0</td>\n",
              "      <td>-14.0</td>\n",
              "      <td>8.0</td>\n",
              "      <td>IAD</td>\n",
              "      <td>TPA</td>\n",
              "      <td>810</td>\n",
              "      <td>4.0</td>\n",
              "      <td>8.0</td>\n",
              "      <td>0</td>\n",
              "      <td>N</td>\n",
              "      <td>0</td>\n",
              "      <td>NaN</td>\n",
              "      <td>NaN</td>\n",
              "      <td>NaN</td>\n",
              "      <td>NaN</td>\n",
              "      <td>NaN</td>\n",
              "    </tr>\n",
              "    <tr>\n",
              "      <th>1</th>\n",
              "      <td>1</td>\n",
              "      <td>2008</td>\n",
              "      <td>1</td>\n",
              "      <td>3</td>\n",
              "      <td>4</td>\n",
              "      <td>754.0</td>\n",
              "      <td>735</td>\n",
              "      <td>1002.0</td>\n",
              "      <td>1000</td>\n",
              "      <td>WN</td>\n",
              "      <td>3231</td>\n",
              "      <td>N772SW</td>\n",
              "      <td>128.0</td>\n",
              "      <td>145.0</td>\n",
              "      <td>113.0</td>\n",
              "      <td>2.0</td>\n",
              "      <td>19.0</td>\n",
              "      <td>IAD</td>\n",
              "      <td>TPA</td>\n",
              "      <td>810</td>\n",
              "      <td>5.0</td>\n",
              "      <td>10.0</td>\n",
              "      <td>0</td>\n",
              "      <td>N</td>\n",
              "      <td>0</td>\n",
              "      <td>NaN</td>\n",
              "      <td>NaN</td>\n",
              "      <td>NaN</td>\n",
              "      <td>NaN</td>\n",
              "      <td>NaN</td>\n",
              "    </tr>\n",
              "    <tr>\n",
              "      <th>2</th>\n",
              "      <td>2</td>\n",
              "      <td>2008</td>\n",
              "      <td>1</td>\n",
              "      <td>3</td>\n",
              "      <td>4</td>\n",
              "      <td>628.0</td>\n",
              "      <td>620</td>\n",
              "      <td>804.0</td>\n",
              "      <td>750</td>\n",
              "      <td>WN</td>\n",
              "      <td>448</td>\n",
              "      <td>N428WN</td>\n",
              "      <td>96.0</td>\n",
              "      <td>90.0</td>\n",
              "      <td>76.0</td>\n",
              "      <td>14.0</td>\n",
              "      <td>8.0</td>\n",
              "      <td>IND</td>\n",
              "      <td>BWI</td>\n",
              "      <td>515</td>\n",
              "      <td>3.0</td>\n",
              "      <td>17.0</td>\n",
              "      <td>0</td>\n",
              "      <td>N</td>\n",
              "      <td>0</td>\n",
              "      <td>NaN</td>\n",
              "      <td>NaN</td>\n",
              "      <td>NaN</td>\n",
              "      <td>NaN</td>\n",
              "      <td>NaN</td>\n",
              "    </tr>\n",
              "    <tr>\n",
              "      <th>3</th>\n",
              "      <td>4</td>\n",
              "      <td>2008</td>\n",
              "      <td>1</td>\n",
              "      <td>3</td>\n",
              "      <td>4</td>\n",
              "      <td>1829.0</td>\n",
              "      <td>1755</td>\n",
              "      <td>1959.0</td>\n",
              "      <td>1925</td>\n",
              "      <td>WN</td>\n",
              "      <td>3920</td>\n",
              "      <td>N464WN</td>\n",
              "      <td>90.0</td>\n",
              "      <td>90.0</td>\n",
              "      <td>77.0</td>\n",
              "      <td>34.0</td>\n",
              "      <td>34.0</td>\n",
              "      <td>IND</td>\n",
              "      <td>BWI</td>\n",
              "      <td>515</td>\n",
              "      <td>3.0</td>\n",
              "      <td>10.0</td>\n",
              "      <td>0</td>\n",
              "      <td>N</td>\n",
              "      <td>0</td>\n",
              "      <td>2.0</td>\n",
              "      <td>0.0</td>\n",
              "      <td>0.0</td>\n",
              "      <td>0.0</td>\n",
              "      <td>32.0</td>\n",
              "    </tr>\n",
              "    <tr>\n",
              "      <th>4</th>\n",
              "      <td>5</td>\n",
              "      <td>2008</td>\n",
              "      <td>1</td>\n",
              "      <td>3</td>\n",
              "      <td>4</td>\n",
              "      <td>1940.0</td>\n",
              "      <td>1915</td>\n",
              "      <td>2121.0</td>\n",
              "      <td>2110</td>\n",
              "      <td>WN</td>\n",
              "      <td>378</td>\n",
              "      <td>N726SW</td>\n",
              "      <td>101.0</td>\n",
              "      <td>115.0</td>\n",
              "      <td>87.0</td>\n",
              "      <td>11.0</td>\n",
              "      <td>25.0</td>\n",
              "      <td>IND</td>\n",
              "      <td>JAX</td>\n",
              "      <td>688</td>\n",
              "      <td>4.0</td>\n",
              "      <td>10.0</td>\n",
              "      <td>0</td>\n",
              "      <td>N</td>\n",
              "      <td>0</td>\n",
              "      <td>NaN</td>\n",
              "      <td>NaN</td>\n",
              "      <td>NaN</td>\n",
              "      <td>NaN</td>\n",
              "      <td>NaN</td>\n",
              "    </tr>\n",
              "    <tr>\n",
              "      <th>...</th>\n",
              "      <td>...</td>\n",
              "      <td>...</td>\n",
              "      <td>...</td>\n",
              "      <td>...</td>\n",
              "      <td>...</td>\n",
              "      <td>...</td>\n",
              "      <td>...</td>\n",
              "      <td>...</td>\n",
              "      <td>...</td>\n",
              "      <td>...</td>\n",
              "      <td>...</td>\n",
              "      <td>...</td>\n",
              "      <td>...</td>\n",
              "      <td>...</td>\n",
              "      <td>...</td>\n",
              "      <td>...</td>\n",
              "      <td>...</td>\n",
              "      <td>...</td>\n",
              "      <td>...</td>\n",
              "      <td>...</td>\n",
              "      <td>...</td>\n",
              "      <td>...</td>\n",
              "      <td>...</td>\n",
              "      <td>...</td>\n",
              "      <td>...</td>\n",
              "      <td>...</td>\n",
              "      <td>...</td>\n",
              "      <td>...</td>\n",
              "      <td>...</td>\n",
              "      <td>...</td>\n",
              "    </tr>\n",
              "    <tr>\n",
              "      <th>1936753</th>\n",
              "      <td>7009710</td>\n",
              "      <td>2008</td>\n",
              "      <td>12</td>\n",
              "      <td>13</td>\n",
              "      <td>6</td>\n",
              "      <td>1250.0</td>\n",
              "      <td>1220</td>\n",
              "      <td>1617.0</td>\n",
              "      <td>1552</td>\n",
              "      <td>DL</td>\n",
              "      <td>1621</td>\n",
              "      <td>N938DL</td>\n",
              "      <td>147.0</td>\n",
              "      <td>152.0</td>\n",
              "      <td>120.0</td>\n",
              "      <td>25.0</td>\n",
              "      <td>30.0</td>\n",
              "      <td>MSP</td>\n",
              "      <td>ATL</td>\n",
              "      <td>906</td>\n",
              "      <td>9.0</td>\n",
              "      <td>18.0</td>\n",
              "      <td>0</td>\n",
              "      <td>N</td>\n",
              "      <td>0</td>\n",
              "      <td>3.0</td>\n",
              "      <td>0.0</td>\n",
              "      <td>0.0</td>\n",
              "      <td>0.0</td>\n",
              "      <td>22.0</td>\n",
              "    </tr>\n",
              "    <tr>\n",
              "      <th>1936754</th>\n",
              "      <td>7009717</td>\n",
              "      <td>2008</td>\n",
              "      <td>12</td>\n",
              "      <td>13</td>\n",
              "      <td>6</td>\n",
              "      <td>657.0</td>\n",
              "      <td>600</td>\n",
              "      <td>904.0</td>\n",
              "      <td>749</td>\n",
              "      <td>DL</td>\n",
              "      <td>1631</td>\n",
              "      <td>N3743H</td>\n",
              "      <td>127.0</td>\n",
              "      <td>109.0</td>\n",
              "      <td>78.0</td>\n",
              "      <td>75.0</td>\n",
              "      <td>57.0</td>\n",
              "      <td>RIC</td>\n",
              "      <td>ATL</td>\n",
              "      <td>481</td>\n",
              "      <td>15.0</td>\n",
              "      <td>34.0</td>\n",
              "      <td>0</td>\n",
              "      <td>N</td>\n",
              "      <td>0</td>\n",
              "      <td>0.0</td>\n",
              "      <td>57.0</td>\n",
              "      <td>18.0</td>\n",
              "      <td>0.0</td>\n",
              "      <td>0.0</td>\n",
              "    </tr>\n",
              "    <tr>\n",
              "      <th>1936755</th>\n",
              "      <td>7009718</td>\n",
              "      <td>2008</td>\n",
              "      <td>12</td>\n",
              "      <td>13</td>\n",
              "      <td>6</td>\n",
              "      <td>1007.0</td>\n",
              "      <td>847</td>\n",
              "      <td>1149.0</td>\n",
              "      <td>1010</td>\n",
              "      <td>DL</td>\n",
              "      <td>1631</td>\n",
              "      <td>N909DA</td>\n",
              "      <td>162.0</td>\n",
              "      <td>143.0</td>\n",
              "      <td>122.0</td>\n",
              "      <td>99.0</td>\n",
              "      <td>80.0</td>\n",
              "      <td>ATL</td>\n",
              "      <td>IAH</td>\n",
              "      <td>689</td>\n",
              "      <td>8.0</td>\n",
              "      <td>32.0</td>\n",
              "      <td>0</td>\n",
              "      <td>N</td>\n",
              "      <td>0</td>\n",
              "      <td>1.0</td>\n",
              "      <td>0.0</td>\n",
              "      <td>19.0</td>\n",
              "      <td>0.0</td>\n",
              "      <td>79.0</td>\n",
              "    </tr>\n",
              "    <tr>\n",
              "      <th>1936756</th>\n",
              "      <td>7009726</td>\n",
              "      <td>2008</td>\n",
              "      <td>12</td>\n",
              "      <td>13</td>\n",
              "      <td>6</td>\n",
              "      <td>1251.0</td>\n",
              "      <td>1240</td>\n",
              "      <td>1446.0</td>\n",
              "      <td>1437</td>\n",
              "      <td>DL</td>\n",
              "      <td>1639</td>\n",
              "      <td>N646DL</td>\n",
              "      <td>115.0</td>\n",
              "      <td>117.0</td>\n",
              "      <td>89.0</td>\n",
              "      <td>9.0</td>\n",
              "      <td>11.0</td>\n",
              "      <td>IAD</td>\n",
              "      <td>ATL</td>\n",
              "      <td>533</td>\n",
              "      <td>13.0</td>\n",
              "      <td>13.0</td>\n",
              "      <td>0</td>\n",
              "      <td>N</td>\n",
              "      <td>0</td>\n",
              "      <td>NaN</td>\n",
              "      <td>NaN</td>\n",
              "      <td>NaN</td>\n",
              "      <td>NaN</td>\n",
              "      <td>NaN</td>\n",
              "    </tr>\n",
              "    <tr>\n",
              "      <th>1936757</th>\n",
              "      <td>7009727</td>\n",
              "      <td>2008</td>\n",
              "      <td>12</td>\n",
              "      <td>13</td>\n",
              "      <td>6</td>\n",
              "      <td>1110.0</td>\n",
              "      <td>1103</td>\n",
              "      <td>1413.0</td>\n",
              "      <td>1418</td>\n",
              "      <td>DL</td>\n",
              "      <td>1641</td>\n",
              "      <td>N908DL</td>\n",
              "      <td>123.0</td>\n",
              "      <td>135.0</td>\n",
              "      <td>104.0</td>\n",
              "      <td>-5.0</td>\n",
              "      <td>7.0</td>\n",
              "      <td>SAT</td>\n",
              "      <td>ATL</td>\n",
              "      <td>874</td>\n",
              "      <td>8.0</td>\n",
              "      <td>11.0</td>\n",
              "      <td>0</td>\n",
              "      <td>N</td>\n",
              "      <td>0</td>\n",
              "      <td>NaN</td>\n",
              "      <td>NaN</td>\n",
              "      <td>NaN</td>\n",
              "      <td>NaN</td>\n",
              "      <td>NaN</td>\n",
              "    </tr>\n",
              "  </tbody>\n",
              "</table>\n",
              "<p>1936758 rows × 30 columns</p>\n",
              "</div>"
            ],
            "text/plain": [
              "         Unnamed: 0  Year  Month  ...  NASDelay  SecurityDelay  LateAircraftDelay\n",
              "0                 0  2008      1  ...       NaN            NaN                NaN\n",
              "1                 1  2008      1  ...       NaN            NaN                NaN\n",
              "2                 2  2008      1  ...       NaN            NaN                NaN\n",
              "3                 4  2008      1  ...       0.0            0.0               32.0\n",
              "4                 5  2008      1  ...       NaN            NaN                NaN\n",
              "...             ...   ...    ...  ...       ...            ...                ...\n",
              "1936753     7009710  2008     12  ...       0.0            0.0               22.0\n",
              "1936754     7009717  2008     12  ...      18.0            0.0                0.0\n",
              "1936755     7009718  2008     12  ...      19.0            0.0               79.0\n",
              "1936756     7009726  2008     12  ...       NaN            NaN                NaN\n",
              "1936757     7009727  2008     12  ...       NaN            NaN                NaN\n",
              "\n",
              "[1936758 rows x 30 columns]"
            ]
          },
          "metadata": {
            "tags": []
          },
          "execution_count": 82
        }
      ]
    },
    {
      "cell_type": "markdown",
      "metadata": {
        "id": "PUDr5vjlBgtG"
      },
      "source": [
        "### Inspect Data"
      ]
    },
    {
      "cell_type": "code",
      "metadata": {
        "id": "GbFfqSwDBqAG",
        "colab": {
          "base_uri": "https://localhost:8080/"
        },
        "outputId": "05f472a3-49ca-4668-ae4c-ad5da69b6dab"
      },
      "source": [
        "#inspect data\n",
        "flight_df.dtypes"
      ],
      "execution_count": 83,
      "outputs": [
        {
          "output_type": "execute_result",
          "data": {
            "text/plain": [
              "Unnamed: 0             int64\n",
              "Year                   int64\n",
              "Month                  int64\n",
              "DayofMonth             int64\n",
              "DayOfWeek              int64\n",
              "DepTime              float64\n",
              "CRSDepTime             int64\n",
              "ArrTime              float64\n",
              "CRSArrTime             int64\n",
              "UniqueCarrier         object\n",
              "FlightNum              int64\n",
              "TailNum               object\n",
              "ActualElapsedTime    float64\n",
              "CRSElapsedTime       float64\n",
              "AirTime              float64\n",
              "ArrDelay             float64\n",
              "DepDelay             float64\n",
              "Origin                object\n",
              "Dest                  object\n",
              "Distance               int64\n",
              "TaxiIn               float64\n",
              "TaxiOut              float64\n",
              "Cancelled              int64\n",
              "CancellationCode      object\n",
              "Diverted               int64\n",
              "CarrierDelay         float64\n",
              "WeatherDelay         float64\n",
              "NASDelay             float64\n",
              "SecurityDelay        float64\n",
              "LateAircraftDelay    float64\n",
              "dtype: object"
            ]
          },
          "metadata": {
            "tags": []
          },
          "execution_count": 83
        }
      ]
    },
    {
      "cell_type": "markdown",
      "metadata": {
        "id": "WsignK1DDLlt"
      },
      "source": [
        "### Cleaning Data"
      ]
    },
    {
      "cell_type": "code",
      "metadata": {
        "colab": {
          "base_uri": "https://localhost:8080/",
          "height": 448
        },
        "id": "QMPnwxwXDLlt",
        "outputId": "5f7c58f5-5e7b-49f6-bd3a-4226a307889d"
      },
      "source": [
        "#clean data section\n",
        "#delay_list = ['CarrierDelay',\t'WeatherDelay',\t'NASDelay',\t'SecurityDelay',\t'LateAircraftDelay']\n",
        "delay_list = ['ArrDelay', 'DepDelay']\n",
        "for i in range(len(delay_list)):\n",
        "  flight_df.loc[flight_df[delay_list[i]] < 0 & flight_df[delay_list[i]].isnull(), delay_list[i]] = 0.0\n",
        "flight_df"
      ],
      "execution_count": 84,
      "outputs": [
        {
          "output_type": "execute_result",
          "data": {
            "text/html": [
              "<div>\n",
              "<style scoped>\n",
              "    .dataframe tbody tr th:only-of-type {\n",
              "        vertical-align: middle;\n",
              "    }\n",
              "\n",
              "    .dataframe tbody tr th {\n",
              "        vertical-align: top;\n",
              "    }\n",
              "\n",
              "    .dataframe thead th {\n",
              "        text-align: right;\n",
              "    }\n",
              "</style>\n",
              "<table border=\"1\" class=\"dataframe\">\n",
              "  <thead>\n",
              "    <tr style=\"text-align: right;\">\n",
              "      <th></th>\n",
              "      <th>Unnamed: 0</th>\n",
              "      <th>Year</th>\n",
              "      <th>Month</th>\n",
              "      <th>DayofMonth</th>\n",
              "      <th>DayOfWeek</th>\n",
              "      <th>DepTime</th>\n",
              "      <th>CRSDepTime</th>\n",
              "      <th>ArrTime</th>\n",
              "      <th>CRSArrTime</th>\n",
              "      <th>UniqueCarrier</th>\n",
              "      <th>FlightNum</th>\n",
              "      <th>TailNum</th>\n",
              "      <th>ActualElapsedTime</th>\n",
              "      <th>CRSElapsedTime</th>\n",
              "      <th>AirTime</th>\n",
              "      <th>ArrDelay</th>\n",
              "      <th>DepDelay</th>\n",
              "      <th>Origin</th>\n",
              "      <th>Dest</th>\n",
              "      <th>Distance</th>\n",
              "      <th>TaxiIn</th>\n",
              "      <th>TaxiOut</th>\n",
              "      <th>Cancelled</th>\n",
              "      <th>CancellationCode</th>\n",
              "      <th>Diverted</th>\n",
              "      <th>CarrierDelay</th>\n",
              "      <th>WeatherDelay</th>\n",
              "      <th>NASDelay</th>\n",
              "      <th>SecurityDelay</th>\n",
              "      <th>LateAircraftDelay</th>\n",
              "    </tr>\n",
              "  </thead>\n",
              "  <tbody>\n",
              "    <tr>\n",
              "      <th>0</th>\n",
              "      <td>0</td>\n",
              "      <td>2008</td>\n",
              "      <td>1</td>\n",
              "      <td>3</td>\n",
              "      <td>4</td>\n",
              "      <td>2003.0</td>\n",
              "      <td>1955</td>\n",
              "      <td>2211.0</td>\n",
              "      <td>2225</td>\n",
              "      <td>WN</td>\n",
              "      <td>335</td>\n",
              "      <td>N712SW</td>\n",
              "      <td>128.0</td>\n",
              "      <td>150.0</td>\n",
              "      <td>116.0</td>\n",
              "      <td>0.0</td>\n",
              "      <td>8.0</td>\n",
              "      <td>IAD</td>\n",
              "      <td>TPA</td>\n",
              "      <td>810</td>\n",
              "      <td>4.0</td>\n",
              "      <td>8.0</td>\n",
              "      <td>0</td>\n",
              "      <td>N</td>\n",
              "      <td>0</td>\n",
              "      <td>NaN</td>\n",
              "      <td>NaN</td>\n",
              "      <td>NaN</td>\n",
              "      <td>NaN</td>\n",
              "      <td>NaN</td>\n",
              "    </tr>\n",
              "    <tr>\n",
              "      <th>1</th>\n",
              "      <td>1</td>\n",
              "      <td>2008</td>\n",
              "      <td>1</td>\n",
              "      <td>3</td>\n",
              "      <td>4</td>\n",
              "      <td>754.0</td>\n",
              "      <td>735</td>\n",
              "      <td>1002.0</td>\n",
              "      <td>1000</td>\n",
              "      <td>WN</td>\n",
              "      <td>3231</td>\n",
              "      <td>N772SW</td>\n",
              "      <td>128.0</td>\n",
              "      <td>145.0</td>\n",
              "      <td>113.0</td>\n",
              "      <td>2.0</td>\n",
              "      <td>19.0</td>\n",
              "      <td>IAD</td>\n",
              "      <td>TPA</td>\n",
              "      <td>810</td>\n",
              "      <td>5.0</td>\n",
              "      <td>10.0</td>\n",
              "      <td>0</td>\n",
              "      <td>N</td>\n",
              "      <td>0</td>\n",
              "      <td>NaN</td>\n",
              "      <td>NaN</td>\n",
              "      <td>NaN</td>\n",
              "      <td>NaN</td>\n",
              "      <td>NaN</td>\n",
              "    </tr>\n",
              "    <tr>\n",
              "      <th>2</th>\n",
              "      <td>2</td>\n",
              "      <td>2008</td>\n",
              "      <td>1</td>\n",
              "      <td>3</td>\n",
              "      <td>4</td>\n",
              "      <td>628.0</td>\n",
              "      <td>620</td>\n",
              "      <td>804.0</td>\n",
              "      <td>750</td>\n",
              "      <td>WN</td>\n",
              "      <td>448</td>\n",
              "      <td>N428WN</td>\n",
              "      <td>96.0</td>\n",
              "      <td>90.0</td>\n",
              "      <td>76.0</td>\n",
              "      <td>14.0</td>\n",
              "      <td>8.0</td>\n",
              "      <td>IND</td>\n",
              "      <td>BWI</td>\n",
              "      <td>515</td>\n",
              "      <td>3.0</td>\n",
              "      <td>17.0</td>\n",
              "      <td>0</td>\n",
              "      <td>N</td>\n",
              "      <td>0</td>\n",
              "      <td>NaN</td>\n",
              "      <td>NaN</td>\n",
              "      <td>NaN</td>\n",
              "      <td>NaN</td>\n",
              "      <td>NaN</td>\n",
              "    </tr>\n",
              "    <tr>\n",
              "      <th>3</th>\n",
              "      <td>4</td>\n",
              "      <td>2008</td>\n",
              "      <td>1</td>\n",
              "      <td>3</td>\n",
              "      <td>4</td>\n",
              "      <td>1829.0</td>\n",
              "      <td>1755</td>\n",
              "      <td>1959.0</td>\n",
              "      <td>1925</td>\n",
              "      <td>WN</td>\n",
              "      <td>3920</td>\n",
              "      <td>N464WN</td>\n",
              "      <td>90.0</td>\n",
              "      <td>90.0</td>\n",
              "      <td>77.0</td>\n",
              "      <td>34.0</td>\n",
              "      <td>34.0</td>\n",
              "      <td>IND</td>\n",
              "      <td>BWI</td>\n",
              "      <td>515</td>\n",
              "      <td>3.0</td>\n",
              "      <td>10.0</td>\n",
              "      <td>0</td>\n",
              "      <td>N</td>\n",
              "      <td>0</td>\n",
              "      <td>2.0</td>\n",
              "      <td>0.0</td>\n",
              "      <td>0.0</td>\n",
              "      <td>0.0</td>\n",
              "      <td>32.0</td>\n",
              "    </tr>\n",
              "    <tr>\n",
              "      <th>4</th>\n",
              "      <td>5</td>\n",
              "      <td>2008</td>\n",
              "      <td>1</td>\n",
              "      <td>3</td>\n",
              "      <td>4</td>\n",
              "      <td>1940.0</td>\n",
              "      <td>1915</td>\n",
              "      <td>2121.0</td>\n",
              "      <td>2110</td>\n",
              "      <td>WN</td>\n",
              "      <td>378</td>\n",
              "      <td>N726SW</td>\n",
              "      <td>101.0</td>\n",
              "      <td>115.0</td>\n",
              "      <td>87.0</td>\n",
              "      <td>11.0</td>\n",
              "      <td>25.0</td>\n",
              "      <td>IND</td>\n",
              "      <td>JAX</td>\n",
              "      <td>688</td>\n",
              "      <td>4.0</td>\n",
              "      <td>10.0</td>\n",
              "      <td>0</td>\n",
              "      <td>N</td>\n",
              "      <td>0</td>\n",
              "      <td>NaN</td>\n",
              "      <td>NaN</td>\n",
              "      <td>NaN</td>\n",
              "      <td>NaN</td>\n",
              "      <td>NaN</td>\n",
              "    </tr>\n",
              "    <tr>\n",
              "      <th>...</th>\n",
              "      <td>...</td>\n",
              "      <td>...</td>\n",
              "      <td>...</td>\n",
              "      <td>...</td>\n",
              "      <td>...</td>\n",
              "      <td>...</td>\n",
              "      <td>...</td>\n",
              "      <td>...</td>\n",
              "      <td>...</td>\n",
              "      <td>...</td>\n",
              "      <td>...</td>\n",
              "      <td>...</td>\n",
              "      <td>...</td>\n",
              "      <td>...</td>\n",
              "      <td>...</td>\n",
              "      <td>...</td>\n",
              "      <td>...</td>\n",
              "      <td>...</td>\n",
              "      <td>...</td>\n",
              "      <td>...</td>\n",
              "      <td>...</td>\n",
              "      <td>...</td>\n",
              "      <td>...</td>\n",
              "      <td>...</td>\n",
              "      <td>...</td>\n",
              "      <td>...</td>\n",
              "      <td>...</td>\n",
              "      <td>...</td>\n",
              "      <td>...</td>\n",
              "      <td>...</td>\n",
              "    </tr>\n",
              "    <tr>\n",
              "      <th>1936753</th>\n",
              "      <td>7009710</td>\n",
              "      <td>2008</td>\n",
              "      <td>12</td>\n",
              "      <td>13</td>\n",
              "      <td>6</td>\n",
              "      <td>1250.0</td>\n",
              "      <td>1220</td>\n",
              "      <td>1617.0</td>\n",
              "      <td>1552</td>\n",
              "      <td>DL</td>\n",
              "      <td>1621</td>\n",
              "      <td>N938DL</td>\n",
              "      <td>147.0</td>\n",
              "      <td>152.0</td>\n",
              "      <td>120.0</td>\n",
              "      <td>25.0</td>\n",
              "      <td>30.0</td>\n",
              "      <td>MSP</td>\n",
              "      <td>ATL</td>\n",
              "      <td>906</td>\n",
              "      <td>9.0</td>\n",
              "      <td>18.0</td>\n",
              "      <td>0</td>\n",
              "      <td>N</td>\n",
              "      <td>0</td>\n",
              "      <td>3.0</td>\n",
              "      <td>0.0</td>\n",
              "      <td>0.0</td>\n",
              "      <td>0.0</td>\n",
              "      <td>22.0</td>\n",
              "    </tr>\n",
              "    <tr>\n",
              "      <th>1936754</th>\n",
              "      <td>7009717</td>\n",
              "      <td>2008</td>\n",
              "      <td>12</td>\n",
              "      <td>13</td>\n",
              "      <td>6</td>\n",
              "      <td>657.0</td>\n",
              "      <td>600</td>\n",
              "      <td>904.0</td>\n",
              "      <td>749</td>\n",
              "      <td>DL</td>\n",
              "      <td>1631</td>\n",
              "      <td>N3743H</td>\n",
              "      <td>127.0</td>\n",
              "      <td>109.0</td>\n",
              "      <td>78.0</td>\n",
              "      <td>75.0</td>\n",
              "      <td>57.0</td>\n",
              "      <td>RIC</td>\n",
              "      <td>ATL</td>\n",
              "      <td>481</td>\n",
              "      <td>15.0</td>\n",
              "      <td>34.0</td>\n",
              "      <td>0</td>\n",
              "      <td>N</td>\n",
              "      <td>0</td>\n",
              "      <td>0.0</td>\n",
              "      <td>57.0</td>\n",
              "      <td>18.0</td>\n",
              "      <td>0.0</td>\n",
              "      <td>0.0</td>\n",
              "    </tr>\n",
              "    <tr>\n",
              "      <th>1936755</th>\n",
              "      <td>7009718</td>\n",
              "      <td>2008</td>\n",
              "      <td>12</td>\n",
              "      <td>13</td>\n",
              "      <td>6</td>\n",
              "      <td>1007.0</td>\n",
              "      <td>847</td>\n",
              "      <td>1149.0</td>\n",
              "      <td>1010</td>\n",
              "      <td>DL</td>\n",
              "      <td>1631</td>\n",
              "      <td>N909DA</td>\n",
              "      <td>162.0</td>\n",
              "      <td>143.0</td>\n",
              "      <td>122.0</td>\n",
              "      <td>99.0</td>\n",
              "      <td>80.0</td>\n",
              "      <td>ATL</td>\n",
              "      <td>IAH</td>\n",
              "      <td>689</td>\n",
              "      <td>8.0</td>\n",
              "      <td>32.0</td>\n",
              "      <td>0</td>\n",
              "      <td>N</td>\n",
              "      <td>0</td>\n",
              "      <td>1.0</td>\n",
              "      <td>0.0</td>\n",
              "      <td>19.0</td>\n",
              "      <td>0.0</td>\n",
              "      <td>79.0</td>\n",
              "    </tr>\n",
              "    <tr>\n",
              "      <th>1936756</th>\n",
              "      <td>7009726</td>\n",
              "      <td>2008</td>\n",
              "      <td>12</td>\n",
              "      <td>13</td>\n",
              "      <td>6</td>\n",
              "      <td>1251.0</td>\n",
              "      <td>1240</td>\n",
              "      <td>1446.0</td>\n",
              "      <td>1437</td>\n",
              "      <td>DL</td>\n",
              "      <td>1639</td>\n",
              "      <td>N646DL</td>\n",
              "      <td>115.0</td>\n",
              "      <td>117.0</td>\n",
              "      <td>89.0</td>\n",
              "      <td>9.0</td>\n",
              "      <td>11.0</td>\n",
              "      <td>IAD</td>\n",
              "      <td>ATL</td>\n",
              "      <td>533</td>\n",
              "      <td>13.0</td>\n",
              "      <td>13.0</td>\n",
              "      <td>0</td>\n",
              "      <td>N</td>\n",
              "      <td>0</td>\n",
              "      <td>NaN</td>\n",
              "      <td>NaN</td>\n",
              "      <td>NaN</td>\n",
              "      <td>NaN</td>\n",
              "      <td>NaN</td>\n",
              "    </tr>\n",
              "    <tr>\n",
              "      <th>1936757</th>\n",
              "      <td>7009727</td>\n",
              "      <td>2008</td>\n",
              "      <td>12</td>\n",
              "      <td>13</td>\n",
              "      <td>6</td>\n",
              "      <td>1110.0</td>\n",
              "      <td>1103</td>\n",
              "      <td>1413.0</td>\n",
              "      <td>1418</td>\n",
              "      <td>DL</td>\n",
              "      <td>1641</td>\n",
              "      <td>N908DL</td>\n",
              "      <td>123.0</td>\n",
              "      <td>135.0</td>\n",
              "      <td>104.0</td>\n",
              "      <td>0.0</td>\n",
              "      <td>7.0</td>\n",
              "      <td>SAT</td>\n",
              "      <td>ATL</td>\n",
              "      <td>874</td>\n",
              "      <td>8.0</td>\n",
              "      <td>11.0</td>\n",
              "      <td>0</td>\n",
              "      <td>N</td>\n",
              "      <td>0</td>\n",
              "      <td>NaN</td>\n",
              "      <td>NaN</td>\n",
              "      <td>NaN</td>\n",
              "      <td>NaN</td>\n",
              "      <td>NaN</td>\n",
              "    </tr>\n",
              "  </tbody>\n",
              "</table>\n",
              "<p>1936758 rows × 30 columns</p>\n",
              "</div>"
            ],
            "text/plain": [
              "         Unnamed: 0  Year  Month  ...  NASDelay  SecurityDelay  LateAircraftDelay\n",
              "0                 0  2008      1  ...       NaN            NaN                NaN\n",
              "1                 1  2008      1  ...       NaN            NaN                NaN\n",
              "2                 2  2008      1  ...       NaN            NaN                NaN\n",
              "3                 4  2008      1  ...       0.0            0.0               32.0\n",
              "4                 5  2008      1  ...       NaN            NaN                NaN\n",
              "...             ...   ...    ...  ...       ...            ...                ...\n",
              "1936753     7009710  2008     12  ...       0.0            0.0               22.0\n",
              "1936754     7009717  2008     12  ...      18.0            0.0                0.0\n",
              "1936755     7009718  2008     12  ...      19.0            0.0               79.0\n",
              "1936756     7009726  2008     12  ...       NaN            NaN                NaN\n",
              "1936757     7009727  2008     12  ...       NaN            NaN                NaN\n",
              "\n",
              "[1936758 rows x 30 columns]"
            ]
          },
          "metadata": {
            "tags": []
          },
          "execution_count": 84
        }
      ]
    },
    {
      "cell_type": "markdown",
      "metadata": {
        "id": "1jDhYdIHcNHN"
      },
      "source": [
        "### Codes to Analyze Delays"
      ]
    },
    {
      "cell_type": "markdown",
      "metadata": {
        "id": "6jHW2ia-w6qh"
      },
      "source": [
        "##### Top 10 Airlines with Most Delays"
      ]
    },
    {
      "cell_type": "code",
      "metadata": {
        "colab": {
          "base_uri": "https://localhost:8080/",
          "height": 310
        },
        "id": "pqQozZDvmTAw",
        "outputId": "a288e453-e0b7-41a5-e378-1b0552b53250"
      },
      "source": [
        "#airlines\n",
        "\n",
        "delay_df = pd.DataFrame(flight_df[['ArrDelay', 'DepDelay']])\n",
        "delay_df['Carrier'] = flight_df['UniqueCarrier']\n",
        "delay_df['Sum'] = flight_df['ArrDelay'] + flight_df['DepDelay']\n",
        "df = pd.DataFrame(delay_df)\n",
        "df = pd.pivot_table(delay_df, index=['Carrier'],values=['Sum'],aggfunc='sum')\n",
        "\n",
        "#print(delay_df[delay_df['Carrier'] == 'CO'])\n",
        "airline_head = df['Sum'].sort_values(ascending=False).head(10)\n",
        "#top_ten_delay = delay_df.loc[df.index, 'Carrier'].unique()[:10].tolist()\n",
        "ret = (airline_head.index).tolist()\n",
        "\n",
        "plt.bar(ret, airline_head.values)\n",
        "plt.title('Top 10 Airlines - Most Delays')\n",
        "plt.xlabel('Carrier')\n",
        "plt.ylabel('Delays')\n",
        "plt.show()\n",
        "\n",
        "print(\"Top 10 Airlines have the most delay: {0}\".format(ret))"
      ],
      "execution_count": 90,
      "outputs": [
        {
          "output_type": "display_data",
          "data": {
            "image/png": "[encoded data removed]",
            "text/plain": [
              "<Figure size 432x288 with 1 Axes>"
            ]
          },
          "metadata": {
            "tags": [],
            "needs_background": "light"
          }
        },
        {
          "output_type": "stream",
          "text": [
            "Top 10 Airlines have the most delay: ['WN', 'AA', 'UA', 'MQ', 'OO', 'XE', 'DL', 'CO', 'EV', 'US']\n"
          ],
          "name": "stdout"
        }
      ]
    },
    {
      "cell_type": "markdown",
      "metadata": {
        "id": "OIILLOk1xDsI"
      },
      "source": [
        "##### Top 10 Airports with Most Delays"
      ]
    },
    {
      "cell_type": "code",
      "metadata": {
        "colab": {
          "base_uri": "https://localhost:8080/"
        },
        "id": "Jpk6t5Nhduk6",
        "outputId": "2910f41e-ce1b-4f1a-be9a-0e229415a2fe"
      },
      "source": [
        "#airports\n",
        "delay_df = pd.DataFrame(flight_df[['ArrDelay', 'DepDelay', 'UniqueCarrier', 'Origin']])\n",
        "delay_df = delay_df.set_index('Origin')\n",
        "airline_most_df = delay_df.groupby('Origin')[['DepDelay', 'ArrDelay']].count().sort_values(by='DepDelay', ascending = False)  #.head(10)\n",
        "airline_most_df['Sum'] = airline_most_df['DepDelay'] + airline_most_df['ArrDelay']\n",
        "\n",
        "airline_most_df['Sum'].head(10).index.tolist()\n",
        "\n",
        "print(\"Top 10 Airlines have the most delay: {0}\".format(airline_most_df['Sum'].head(10).index.tolist()))"
      ],
      "execution_count": 86,
      "outputs": [
        {
          "output_type": "stream",
          "text": [
            "Top 10 Airlines have the most delay: ['ATL', 'ORD', 'DFW', 'DEN', 'LAX', 'IAH', 'PHX', 'LAS', 'EWR', 'DTW']\n"
          ],
          "name": "stdout"
        }
      ]
    },
    {
      "cell_type": "markdown",
      "metadata": {
        "id": "uwOq6UWRcPGO"
      },
      "source": [
        "### Codes to Analyze Delays Across Seasons"
      ]
    },
    {
      "cell_type": "code",
      "metadata": {
        "id": "DFOpyF-KMA4e",
        "colab": {
          "base_uri": "https://localhost:8080/",
          "height": 292
        },
        "outputId": "9e5358ba-4f2d-48c5-f473-e17f30826773"
      },
      "source": [
        "delay_df = pd.DataFrame(flight_df[['ArrDelay', 'DepDelay', 'Month']])\n",
        "delay_df =delay_df.set_index('Month')\n",
        "month_df = delay_df.groupby('Month')[['DepDelay', 'ArrDelay']].count().sort_values(by='Month')  #.head(10)\n",
        "month_df['Total Delay'] = month_df['DepDelay'] + month_df['ArrDelay']\n",
        "\n",
        "months = ['Jan', 'Feb', 'Mar', 'Apr', 'May', 'Jun', 'Jul', 'Aug', 'Sept', 'Oct', 'Nov', 'Dec']\n",
        "colors = ['#3399FF', '#3399FF', '#59D030', '#59D030', '#59D030', '#FF9633', '#FF9633', '#FF9633', '#FF4233', '#FF4233', '#FF4233', '#3399FF']\n",
        "\n",
        "plt.bar(month_df.index, month_df['Total Delay'], color=colors)\n",
        "plt.xticks(month_df.index, months, rotation = 45)\n",
        "\n",
        "\n",
        "plt.ylabel('Delays')\n",
        "plt.title('Delays vs. Months')\n",
        "plt.show()"
      ],
      "execution_count": 87,
      "outputs": [
        {
          "output_type": "display_data",
          "data": {
            "image/png": "[encoded data removed]",
            "text/plain": [
              "<Figure size 432x288 with 1 Axes>"
            ]
          },
          "metadata": {
            "tags": [],
            "needs_background": "light"
          }
        }
      ]
    },
    {
      "cell_type": "markdown",
      "metadata": {
        "id": "_rynpk0fcR0a"
      },
      "source": [
        "### Codes to Analyze the Busiest Airports"
      ]
    },
    {
      "cell_type": "code",
      "metadata": {
        "id": "f9cJrE78b41R",
        "colab": {
          "base_uri": "https://localhost:8080/",
          "height": 201
        },
        "outputId": "022298be-1524-4d23-aa72-cafeb1143240"
      },
      "source": [
        "import pandas as pd\n",
        "import numpy as np\n",
        "import matplotlib.pyplot as plt\n",
        "outs = flight_df.groupby(flight_df['Origin']).size().reset_index(name = 'delays')\n",
        "outs_pd = outs.sort_values(by=\"delays\", ascending=False)\n",
        "outs_pd.head()\n",
        "\n",
        "#plt.bar(outs['Origin'], outs_pd['delays'])\n",
        "#plt.xlabel('Carriers')\n",
        "#print(outs_pd['delays'])\n",
        "#plt.show()"
      ],
      "execution_count": 88,
      "outputs": [
        {
          "output_type": "execute_result",
          "data": {
            "text/html": [
              "<div>\n",
              "<style scoped>\n",
              "    .dataframe tbody tr th:only-of-type {\n",
              "        vertical-align: middle;\n",
              "    }\n",
              "\n",
              "    .dataframe tbody tr th {\n",
              "        vertical-align: top;\n",
              "    }\n",
              "\n",
              "    .dataframe thead th {\n",
              "        text-align: right;\n",
              "    }\n",
              "</style>\n",
              "<table border=\"1\" class=\"dataframe\">\n",
              "  <thead>\n",
              "    <tr style=\"text-align: right;\">\n",
              "      <th></th>\n",
              "      <th>Origin</th>\n",
              "      <th>delays</th>\n",
              "    </tr>\n",
              "  </thead>\n",
              "  <tbody>\n",
              "    <tr>\n",
              "      <th>18</th>\n",
              "      <td>ATL</td>\n",
              "      <td>131613</td>\n",
              "    </tr>\n",
              "    <tr>\n",
              "      <th>210</th>\n",
              "      <td>ORD</td>\n",
              "      <td>125979</td>\n",
              "    </tr>\n",
              "    <tr>\n",
              "      <th>81</th>\n",
              "      <td>DFW</td>\n",
              "      <td>95414</td>\n",
              "    </tr>\n",
              "    <tr>\n",
              "      <th>80</th>\n",
              "      <td>DEN</td>\n",
              "      <td>74323</td>\n",
              "    </tr>\n",
              "    <tr>\n",
              "      <th>157</th>\n",
              "      <td>LAX</td>\n",
              "      <td>58772</td>\n",
              "    </tr>\n",
              "  </tbody>\n",
              "</table>\n",
              "</div>"
            ],
            "text/plain": [
              "    Origin  delays\n",
              "18     ATL  131613\n",
              "210    ORD  125979\n",
              "81     DFW   95414\n",
              "80     DEN   74323\n",
              "157    LAX   58772"
            ]
          },
          "metadata": {
            "tags": []
          },
          "execution_count": 88
        }
      ]
    },
    {
      "cell_type": "markdown",
      "metadata": {
        "id": "2IY331QgBEm5"
      },
      "source": [
        "## Exercise 2: Ethical Implications"
      ]
    },
    {
      "cell_type": "markdown",
      "metadata": {
        "id": "uK8XzfVHLi1K"
      },
      "source": [
        "Even the most basic of data manipulations has the potential to affect segments of the population in different ways. It is important to consider how your code might positively and negatively affect different types of users.\n",
        "\n",
        "In this section of the project, you will reflect on the ethical implications of your analysis."
      ]
    },
    {
      "cell_type": "markdown",
      "metadata": {
        "id": "BqyxriWE53Du"
      },
      "source": [
        "### Student Solution"
      ]
    },
    {
      "cell_type": "markdown",
      "metadata": {
        "id": "_U3L0F9FLmwa"
      },
      "source": [
        "**Positive Impact**\n",
        "\n",
        "*Response: The main problem we analynzed is about which airlines and airports have the most delays. When passengers are informed about which top 10 airlines and airports are, they will have reference to pick which airports they will go for when they order the flight tickets. Nevertheless, as the flight companies get to know the most delay airlines and airports, they will come up with plans to distribute airlines to different airports based on the result we concluded from the data frame.*"
      ]
    },
    {
      "cell_type": "markdown",
      "metadata": {
        "id": "ALr018eQMuUw"
      },
      "source": [
        "**Negative Impact**\n",
        "\n",
        "*Response: Due to the size and diversity of the data from data source, the conclusion from the data we obtain may have deviations. The faulty conclusion based on the data will cause negative impact to both the airlines and the airports if they come up with the strategies to deal with the delays.*"
      ]
    },
    {
      "cell_type": "markdown",
      "metadata": {
        "id": "07J-8ljpL85I"
      },
      "source": [
        "**Bias**\n",
        "\n",
        "Data analysis can be biased for many reasons. The bias can come from the data itself (e.g. sampling, data collection methods, available sources), and from the interpretation of the analysis outcome.\n",
        "\n",
        "Think of at least two ways that bias might have been introduced to your analysis and explain them below."
      ]
    },
    {
      "cell_type": "markdown",
      "metadata": {
        "id": "Jg_PSw3NMyFX"
      },
      "source": [
        "*Response: One source of bias in the analysis could be: Once source of bias in the analysis could be the focus on all arrival and departure delays without taking into account whether or not the plane landed at or before it's scheduled time. (Reporting Bias)*\n",
        "\n",
        "*Response: Another source of bias in the analysis could be the raw data contains many NaN under many columns and that our team decided to turn all the occurance of NaN into 0.0. This will clean up the data but at the same time the final results might be skewed, which could cause bias. (Selection Bias/Non-response Bias)*"
      ]
    },
    {
      "cell_type": "markdown",
      "metadata": {
        "id": "7j9AWdJLMTJI"
      },
      "source": [
        "**Changing the Dataset to Mitigate Bias**\n",
        "\n",
        "The most common way that an analysis is biased is when the dataset itself is biased. Look back at the input data that you used for your analysis. Think about how you might change something about the data to reduce bias in your model.\n",
        "\n",
        "What changes could you make to make your dataset less biased? Consider the data that you have, how and where that data was collected, and what other sources of data might be used to reduce bias.\n",
        "\n",
        "Write a summary of the changes that could be made to your input data."
      ]
    },
    {
      "cell_type": "markdown",
      "metadata": {
        "id": "yzzfrQ-xNZo5"
      },
      "source": [
        "*Reponse: Since the data that was collected mainly focuses on there being any type of delay it doesn't account for the events in which a flight is delayed, but arrives on time or earlier than scheduled. To account for this, the arrival time and scheduled arrival time could be compared against one another, and on the occasion that the flight has a arrival time earlier than that of it's schedule or equal, then the delay for that airline or airport would not be included in the data.*"
      ]
    },
    {
      "cell_type": "markdown",
      "metadata": {
        "id": "ePs6hpLiMNSx"
      },
      "source": [
        "**Changing the Analysis Questions to Mitigate Bias**\n",
        "\n",
        "Are there any ways to reduce bias by changing the analysis itself? This could include modifying the choice of questions you ask, the approach you take to answer the questions, etc.\n",
        "\n",
        "Write a brief summary of any changes that you could make to help reduce bias in your analysis."
      ]
    },
    {
      "cell_type": "markdown",
      "metadata": {
        "id": "bZ3PS8bRNRCv"
      },
      "source": [
        "*Reponse: Are there any ways to reduce bias by changing the analysis itself? This could include modifying the choice of questions you ask, the approach you take to answer the questions, etc.\n",
        "Write a brief summary of any changes that you could make to help reduce bias in your analysis.\n",
        "SSince the analysis has potential bias that we could adjust, due to other other data that is excluded from the data we are analyzing. To reduce bias, we could take the data from international flights as well to answer the questions that could mitigate bias. International flights have an impact on delays and arrivals as well as popularity among airlines and U.S airports. Another change would be the size of the airports in the data frame, this data would reduce bias as we could take the information given and relate it to the rest of the analysis itself to prove our answer.*"
      ]
    },
    {
      "cell_type": "markdown",
      "metadata": {
        "id": "YYY7lk55MgdX"
      },
      "source": [
        "**Mitigating Bias Downstream**\n",
        "\n",
        "While analysis can point to suggestions, it is people who make decisions based on them. What processes and/or rules should be in place for people and systems interpreting and acting on the results of your analysis to reduce the bias? Describe these below."
      ]
    },
    {
      "cell_type": "markdown",
      "metadata": {
        "id": "Mp3TkmalNcR-"
      },
      "source": [
        "*Response: While analysis can point to suggestions, it is people who make decisions based on them. What processes and/or rules should be in place for people and systems interpreting and acting on the results of your analysis to reduce the bias? Describe these below.\n",
        "Experience both as in the system and outside the system would be implemented as part of the process for how people should interpret the analysis. It’s important to be able to relate to the information from not only one point of view but from at least two.  They too should not only focus on what they know or have experienced but also on what others have gone through, that’s where there is a connection when it comes to interpreting the data and bias would be greatly reduced.*"
      ]
    }
  ]
}